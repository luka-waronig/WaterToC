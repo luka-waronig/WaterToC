{
 "cells": [
  {
   "cell_type": "markdown",
   "id": "998ab2ea",
   "metadata": {},
   "source": [
    "## Agent-based model for simulating coevolutionary game-environment dynamics in spatial Human & AI agent-based populations sourcing from a shared commons\n",
    "\n",
    "#### Theory and derivations (\"From micro to macro\")\n",
    "\n",
    "Please see supplementary_appendix.pdf for more details on the system's mean field approximation and derivation of (interior) fixed point equilibria. This corresponds to the findings from Weitz et al (2016) regarding the interior fixed point $(x*, n*) = (\\frac{1}{1+\\theta}, \\frac{1}{2})$, however the derivation steps are different and environmental quality $n$ is shown to always go to $\\frac{1}{2}$ if assuming symmetric payoffs $A_0$=[T  P ; R  S] --> $A_1$=[R  S ; T  P].\n",
    "\n",
    "#### The Initial Chapter (UvA)\n",
    "The first experimental chapter with this ABM, conducted at the University of Amsterdam, concluded with findings that fixed point attractors drive the time series of $x$ and $n$ to stabilize at the region of a median $x*$ ~ 0.72 and $n*$ ~ 0.38 in most runs of the experiment simulations, notably deviating from theoretical predictions. The mean field approximation cannot capture this co-evolution in the same way because it misses the stochastic and spatial elements, which this ABM can enable partially or entirely, leading to different dynamics. It also enables the study of specific parameter sensitivities and unlocks completely new areas of human-AI alignment research (where sustainability is a broad but very powerful concept). (Hence also the delivery of quantitative evidence-based policy insights.) The full paper will soon become available after the International AAMAS 2026 conference proceedings.\n",
    "\n",
    "We invite other collaborators and researchers to join in the creation of more experimental chapters using this model, and lead the chapters for developing complementary models extending this framework in aims of answering novel questions and assisting in policy design and high-level decision making."
   ]
  }
 ],
 "metadata": {
  "language_info": {
   "name": "python"
  }
 },
 "nbformat": 4,
 "nbformat_minor": 5
}
